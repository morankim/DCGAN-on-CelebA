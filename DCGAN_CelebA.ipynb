{
  "nbformat": 4,
  "nbformat_minor": 0,
  "metadata": {
    "colab": {
      "provenance": [],
      "authorship_tag": "ABX9TyPHygdBC4dw09QK0B8n89NX",
      "include_colab_link": true
    },
    "kernelspec": {
      "name": "python3",
      "display_name": "Python 3"
    },
    "language_info": {
      "name": "python"
    },
    "gpuClass": "standard",
    "accelerator": "GPU"
  },
  "cells": [
    {
      "cell_type": "markdown",
      "metadata": {
        "id": "view-in-github",
        "colab_type": "text"
      },
      "source": [
        "<a href=\"https://colab.research.google.com/github/morankim/DCGAN-on-CelebA/blob/main/DCGAN_CelebA.ipynb\" target=\"_parent\"><img src=\"https://colab.research.google.com/assets/colab-badge.svg\" alt=\"Open In Colab\"/></a>"
      ]
    },
    {
      "cell_type": "code",
      "execution_count": null,
      "metadata": {
        "colab": {
          "base_uri": "https://localhost:8080/"
        },
        "id": "_kcYUH6NGokV",
        "outputId": "d8373cec-20fc-4280-c1c6-75ec49e82f8b"
      },
      "outputs": [
        {
          "output_type": "stream",
          "name": "stdout",
          "text": [
            "Mounted at ./mount\n"
          ]
        }
      ],
      "source": [
        "from google.colab import drive\n",
        "drive.mount('./mount')"
      ]
    },
    {
      "cell_type": "code",
      "source": [
        "\n",
        "import time\n",
        "import os\n",
        "import numpy as np\n",
        "import torch\n",
        "import random\n",
        "import h5py, pandas\n",
        "\n",
        "import torch.nn.functional as F\n",
        "import torch.nn as nn\n",
        "import torchvision.utils as vutils\n",
        "\n",
        "from PIL import Image\n",
        "from torch.utils.data import Dataset\n",
        "from torch.utils.data import DataLoader\n",
        "from torchvision import transforms\n",
        "import matplotlib.pyplot as plt\n",
        "\n",
        "GENERATOR_LEARNING_RATE = 0.0002\n",
        "DISCRIMINATOR_LEARNING_RATE = 0.0002\n",
        "NUM_EPOCHS = 50\n",
        "BATCH_SIZE = 128\n",
        "NUM_WORKERS = 0 # workers for data loader\n",
        "\n",
        "IMAGE_SIZE = (64, 64, 3)\n",
        "\n",
        "# Size of the latent vector\n",
        "LATENT_DIM = 100\n",
        "\n",
        "# Number of feature maps in generator and discriminator\n",
        "NUM_MAPS_GEN = 64\n",
        "NUM_MAPS_DIS = 64"
      ],
      "metadata": {
        "id": "gCdgWW7FGrVf"
      },
      "execution_count": null,
      "outputs": []
    },
    {
      "cell_type": "code",
      "source": [
        "\n",
        "# check if CUDA is available\n",
        "# if yes, set default tensor type to cuda\n",
        "\n",
        "if torch.cuda.is_available():\n",
        "  torch.set_default_tensor_type(torch.cuda.FloatTensor)\n",
        "  print(\"using cuda:\", torch.cuda.get_device_name(0))\n",
        "  pass\n",
        "\n",
        "device = torch.device(\"cuda\" if torch.cuda.is_available() else \"cpu\")\n",
        "\n",
        "device"
      ],
      "metadata": {
        "id": "1uEd__6PGszn",
        "colab": {
          "base_uri": "https://localhost:8080/"
        },
        "outputId": "95d0e24b-beea-4ca1-f35d-8b0e73eba14c"
      },
      "execution_count": null,
      "outputs": [
        {
          "output_type": "stream",
          "name": "stdout",
          "text": [
            "using cuda: Tesla T4\n"
          ]
        },
        {
          "output_type": "execute_result",
          "data": {
            "text/plain": [
              "device(type='cuda')"
            ]
          },
          "metadata": {},
          "execution_count": 3
        }
      ]
    },
    {
      "cell_type": "code",
      "source": [
        "def generate_random_image(size):\n",
        "    random_data = torch.rand(size, device = device)\n",
        "    return random_data\n",
        "\n",
        "\n",
        "def generate_random_seed(size):\n",
        "    random_data = torch.randn(1, size, 1, 1, device = device)\n",
        "    return random_data\n",
        "\n",
        "class View(nn.Module):\n",
        "  def __init__(self, shape):\n",
        "    super().__init__()\n",
        "    self.shape = shape,\n",
        "  \n",
        "  def forward(self, x):\n",
        "    return x.view(*self.shape)\n",
        "\n",
        "def crop_center(img, new_width, new_height):\n",
        "  tf = transforms.RandomResizedCrop(new_width, scale=(0.96, 1.0), ratio=(0.95, 1.05))\n",
        "  img = tf(img)\n",
        "  img = np.array(img)\n",
        "  return img[new_height, new_width, :]"
      ],
      "metadata": {
        "id": "IkAzP402Gusf"
      },
      "execution_count": null,
      "outputs": []
    },
    {
      "cell_type": "code",
      "source": [
        "class CelebADataset(Dataset):\n",
        "  \n",
        "  def __init__(self, file, transform=None):\n",
        "    self.file_object = h5py.File(file, 'r')\n",
        "    self.dataset = self.file_object['img_align_celeba_20000']\n",
        "    self.transform = transform\n",
        "    pass\n",
        "\n",
        "  def __len__(self):\n",
        "    return len(self.dataset)\n",
        "\n",
        "  def __getitem__(self, index):\n",
        "    if(index>= len(self.dataset)):\n",
        "      raise IndexError()\n",
        "    img = np.array(self.dataset[str(index)+'.jpg'])\n",
        "    img = Image.fromarray(img) # convert to PIL image\n",
        "    img = np.array(self.transform(img).permute(1, 2, 0) )\n",
        "    return torch.cuda.FloatTensor(img).permute(2,0,1).view(1, 3, IMAGE_SIZE[0],IMAGE_SIZE[1])\n",
        "    #return torch.cuda.FloatTensor(img).permute(2,0,1).view(1,3,IMAGE_SIZE[0],IMAGE_SIZE[1]) / 255.0\n",
        "\n",
        "  def plot_image(self, index):\n",
        "    img = np.array(self.dataset[str(index)+'.jpg'])\n",
        "\n",
        "    img = Image.fromarray(img) # convert to PIL image\n",
        "    img = self.transform(img).permute(1, 2, 0) # input PIL image -> Tensor-> index re-odering\n",
        "    plt.imshow(img, interpolation='nearest')\n",
        "    pass\n",
        "  pass\n",
        "\n",
        "data_transforms = {\n",
        "    'train': transforms.Compose([\n",
        "        #transforms.RandomRotation(5),\n",
        "        #transforms.RandomHorizontalFlip(),\n",
        "        transforms.RandomResizedCrop(IMAGE_SIZE[0], scale=(0.96, 1.0), ratio=(0.95, 1.05)),\n",
        "        transforms.ToTensor(),\n",
        "        # normalize images to [-1, 1] range\n",
        "        transforms.Normalize((0.5, 0.5, 0.5), (0.5, 0.5, 0.5))\n",
        "    ]),\n",
        "}"
      ],
      "metadata": {
        "id": "_8cRKcKSG5Wu"
      },
      "execution_count": null,
      "outputs": []
    },
    {
      "cell_type": "code",
      "source": [
        "celeba_dataset = CelebADataset('mount/My Drive/Colab Notebooks/myo_gan/celeba/celeba_aligned_small.h5py', transform = data_transforms['train'])\n",
        "\n",
        "# check data contains images\n",
        "celeba_dataset.plot_image(0)"
      ],
      "metadata": {
        "id": "FzweV-SuG7eY",
        "colab": {
          "base_uri": "https://localhost:8080/",
          "height": 286
        },
        "outputId": "899d8003-b4ef-4c4b-a46b-a6931513f606"
      },
      "execution_count": null,
      "outputs": [
        {
          "output_type": "stream",
          "name": "stderr",
          "text": [
            "WARNING:matplotlib.image:Clipping input data to the valid range for imshow with RGB data ([0..1] for floats or [0..255] for integers).\n"
          ]
        },
        {
          "output_type": "display_data",
          "data": {
            "text/plain": [
              "<Figure size 432x288 with 1 Axes>"
            ],
            "image/png": "[encoded data removed]"
          },
          "metadata": {
            "needs_background": "light"
          }
        }
      ]
    },
    {
      "cell_type": "code",
      "source": [
        "# Some model code is loosely inspired by \n",
        "# https://pytorch.org/tutorials/beginner/dcgan_faces_tutorial.html\n",
        "\n",
        "def weights_init(module):\n",
        "    \"\"\"\n",
        "    Function that initializes weights according to\n",
        "    Radford et al.'s DCGAN paper\n",
        "    \"\"\"\n",
        "    classname = module.__class__.__name__\n",
        "    if classname.find('Conv') != -1:\n",
        "        nn.init.normal_(module.weight.data, 0.0, 0.02)\n",
        "    elif classname.find('BatchNorm') != -1:\n",
        "        nn.init.normal_(module.weight.data, 1.0, 0.02)\n",
        "        nn.init.constant_(module.bias.data, 0)"
      ],
      "metadata": {
        "id": "Th_ROzjZG-56"
      },
      "execution_count": null,
      "outputs": []
    },
    {
      "cell_type": "code",
      "source": [
        "# discriminator class\n",
        "\n",
        "class DCGAN(nn.Module):\n",
        "    \n",
        "    def __init__(self):\n",
        "        # initialise parent pytorch class\n",
        "        super(DCGAN, self).__init__()\n",
        "        \n",
        "        # define neural network layers\n",
        "        self.discriminator = nn.Sequential(\n",
        "            nn.Conv2d(IMAGE_SIZE[2], NUM_MAPS_DIS,\n",
        "                      kernel_size=4, stride=2, padding=1),\n",
        "            nn.LeakyReLU(0.2, inplace=True),\n",
        "            #\n",
        "            # size: NUM_MAPS_DIS x 32 x 32\n",
        "            #              \n",
        "            nn.Conv2d(NUM_MAPS_DIS, NUM_MAPS_DIS*2,\n",
        "                      kernel_size=4, stride=2, padding=1,\n",
        "                      bias=False),        \n",
        "            nn.BatchNorm2d(NUM_MAPS_DIS*2),\n",
        "            nn.LeakyReLU(0.2, inplace=True),\n",
        "            #\n",
        "            # size: NUM_MAPS_DIS*2 x 16 x 16\n",
        "            #   \n",
        "            nn.Conv2d(NUM_MAPS_DIS*2, NUM_MAPS_DIS*4,\n",
        "                      kernel_size=4, stride=2, padding=1,\n",
        "                      bias=False),        \n",
        "            nn.BatchNorm2d(NUM_MAPS_DIS*4),\n",
        "            nn.LeakyReLU(0.2, inplace=True),\n",
        "            #\n",
        "            # size: NUM_MAPS_DIS*4 x 8 x 8\n",
        "            #   \n",
        "            nn.Conv2d(NUM_MAPS_DIS*4, NUM_MAPS_DIS*8,\n",
        "                      kernel_size=4, stride=2, padding=1,\n",
        "                      bias=False),        \n",
        "            nn.BatchNorm2d(NUM_MAPS_DIS*8),\n",
        "            nn.LeakyReLU(0.2, inplace=True),\n",
        "            #\n",
        "            # size: NUM_MAPS_DIS*8 x 4 x 4\n",
        "            #   \n",
        "            nn.Conv2d(NUM_MAPS_DIS*8, 1,\n",
        "                      kernel_size=4, stride=1, padding=0),\n",
        "            \n",
        "            #View(1*1*1),\n",
        "            #nn.Linear(1*1*1, 1),\n",
        "            nn.Sigmoid()\n",
        "        )\n",
        "\n",
        "        self.generator = nn.Sequential(\n",
        "          # input is a 1d array\n",
        "          #nn.Linear(100, 100*1*1),\n",
        "          #nn.LeakyReLU(0.2),\n",
        "          \n",
        "          # reshape to 4d\n",
        "          #View((1, 100, 1, 1)),\n",
        "\n",
        "          nn.ConvTranspose2d(LATENT_DIM, NUM_MAPS_GEN*8, \n",
        "                            kernel_size=4, stride=1, padding=0,\n",
        "                            bias=False), # bias is redundant when using BatchNorm\n",
        "          nn.BatchNorm2d(NUM_MAPS_GEN*8),\n",
        "          nn.ReLU(True),\n",
        "          #\n",
        "          # size: NUM_MAPS_GEN*8 x 4 x 4\n",
        "          #\n",
        "          nn.ConvTranspose2d(NUM_MAPS_GEN*8, NUM_MAPS_GEN*4, \n",
        "                            kernel_size=4, stride=2, padding=1,\n",
        "                            bias=False),\n",
        "          nn.BatchNorm2d(NUM_MAPS_GEN*4),\n",
        "          nn.ReLU(True),\n",
        "          #\n",
        "          # size: NUM_MAPS_GEN*4 x 8 x 8\n",
        "          #\n",
        "          nn.ConvTranspose2d(NUM_MAPS_GEN*4, NUM_MAPS_GEN*2, \n",
        "                            kernel_size=4, stride=2, padding=1,\n",
        "                            bias=False),\n",
        "          nn.BatchNorm2d(NUM_MAPS_GEN*2),\n",
        "          nn.ReLU(True),\n",
        "          #\n",
        "          # size: NUM_MAPS_GEN*2 x 16 x 16\n",
        "          #\n",
        "          nn.ConvTranspose2d(NUM_MAPS_GEN*2, NUM_MAPS_GEN, \n",
        "                            kernel_size=4, stride=2, padding=1,\n",
        "                            bias=False),\n",
        "          nn.BatchNorm2d(NUM_MAPS_GEN),\n",
        "          nn.ReLU(True),   \n",
        "          #\n",
        "          # size: NUM_MAPS_GEN x 32 x 32\n",
        "          #\n",
        "          nn.ConvTranspose2d(NUM_MAPS_GEN, IMAGE_SIZE[2], \n",
        "                            kernel_size=4, stride=2, padding=1,\n",
        "                            bias=False),\n",
        "          #\n",
        "          # size: IMAGE_SIZE[2] x 64 x 64\n",
        "          #  \n",
        "          nn.Tanh()\n",
        "      )\n",
        "        \n",
        "        # create loss function\n",
        "        self.loss_function = nn.BCELoss()\n",
        "\n",
        "        # create optimiser, simple stochastic gradient descent\n",
        "        self.optimiser = torch.optim.Adam(self.parameters(), lr=0.0001)\n",
        "\n",
        "        # counter and accumulator for progress\n",
        "        self.counter = 0;\n",
        "        self.progress = []\n",
        "\n",
        "        pass\n",
        "    \n",
        "    \n",
        "    def generator_forward(self, z):\n",
        "        img = self.generator(z)\n",
        "        return img\n",
        "    \n",
        "    def discriminator_forward(self, img):\n",
        "        pred = self.discriminator(img)\n",
        "        return pred\n",
        "    \n",
        "    \n",
        "    def plot_progress(self):\n",
        "        df = pandas.DataFrame(self.progress, columns=['loss'])\n",
        "        df.plot(ylim=(0), figsize=(16,8), alpha=0.1, marker='.', grid=True, yticks=(0, 0.25, 0.5, 1.0, 5.0))\n",
        "        pass\n",
        "    pass"
      ],
      "metadata": {
        "id": "zrCLbUqLHmaf"
      },
      "execution_count": null,
      "outputs": []
    },
    {
      "cell_type": "code",
      "source": [
        "\n",
        "loss_function = nn.BCELoss()\n",
        "model = DCGAN()\n",
        "model = model.to(device)\n",
        "model.apply(weights_init)\n",
        "print(model)\n",
        "\n",
        "optim_gener = torch.optim.Adam(model.generator.parameters(),\n",
        "                               betas=(0.5, 0.999),\n",
        "                               lr=GENERATOR_LEARNING_RATE)\n",
        "optim_discr = torch.optim.Adam(model.discriminator.parameters(),\n",
        "                               betas=(0.5, 0.999),\n",
        "                               lr=DISCRIMINATOR_LEARNING_RATE)\n"
      ],
      "metadata": {
        "colab": {
          "base_uri": "https://localhost:8080/"
        },
        "id": "mWZq4KbeHn9u",
        "outputId": "3fa7d615-99ea-42c0-8296-c70e118ec531"
      },
      "execution_count": null,
      "outputs": [
        {
          "output_type": "stream",
          "name": "stdout",
          "text": [
            "DCGAN(\n",
            "  (discriminator): Sequential(\n",
            "    (0): Conv2d(3, 64, kernel_size=(4, 4), stride=(2, 2), padding=(1, 1))\n",
            "    (1): LeakyReLU(negative_slope=0.2, inplace=True)\n",
            "    (2): Conv2d(64, 128, kernel_size=(4, 4), stride=(2, 2), padding=(1, 1), bias=False)\n",
            "    (3): BatchNorm2d(128, eps=1e-05, momentum=0.1, affine=True, track_running_stats=True)\n",
            "    (4): LeakyReLU(negative_slope=0.2, inplace=True)\n",
            "    (5): Conv2d(128, 256, kernel_size=(4, 4), stride=(2, 2), padding=(1, 1), bias=False)\n",
            "    (6): BatchNorm2d(256, eps=1e-05, momentum=0.1, affine=True, track_running_stats=True)\n",
            "    (7): LeakyReLU(negative_slope=0.2, inplace=True)\n",
            "    (8): Conv2d(256, 512, kernel_size=(4, 4), stride=(2, 2), padding=(1, 1), bias=False)\n",
            "    (9): BatchNorm2d(512, eps=1e-05, momentum=0.1, affine=True, track_running_stats=True)\n",
            "    (10): LeakyReLU(negative_slope=0.2, inplace=True)\n",
            "    (11): Conv2d(512, 1, kernel_size=(4, 4), stride=(1, 1))\n",
            "    (12): Sigmoid()\n",
            "  )\n",
            "  (generator): Sequential(\n",
            "    (0): ConvTranspose2d(100, 512, kernel_size=(4, 4), stride=(1, 1), bias=False)\n",
            "    (1): BatchNorm2d(512, eps=1e-05, momentum=0.1, affine=True, track_running_stats=True)\n",
            "    (2): ReLU(inplace=True)\n",
            "    (3): ConvTranspose2d(512, 256, kernel_size=(4, 4), stride=(2, 2), padding=(1, 1), bias=False)\n",
            "    (4): BatchNorm2d(256, eps=1e-05, momentum=0.1, affine=True, track_running_stats=True)\n",
            "    (5): ReLU(inplace=True)\n",
            "    (6): ConvTranspose2d(256, 128, kernel_size=(4, 4), stride=(2, 2), padding=(1, 1), bias=False)\n",
            "    (7): BatchNorm2d(128, eps=1e-05, momentum=0.1, affine=True, track_running_stats=True)\n",
            "    (8): ReLU(inplace=True)\n",
            "    (9): ConvTranspose2d(128, 64, kernel_size=(4, 4), stride=(2, 2), padding=(1, 1), bias=False)\n",
            "    (10): BatchNorm2d(64, eps=1e-05, momentum=0.1, affine=True, track_running_stats=True)\n",
            "    (11): ReLU(inplace=True)\n",
            "    (12): ConvTranspose2d(64, 3, kernel_size=(4, 4), stride=(2, 2), padding=(1, 1), bias=False)\n",
            "    (13): Tanh()\n",
            "  )\n",
            "  (loss_function): BCELoss()\n",
            ")\n"
          ]
        }
      ]
    },
    {
      "cell_type": "code",
      "source": [
        "# check the generator output is of the right type and shape\n",
        "\n",
        "output = model.generator_forward(generate_random_seed(100))\n",
        "\n",
        "img = output.detach().permute(0,2,3,1).view(64,64,3).cpu().numpy()\n",
        "plt.imshow(img, interpolation='none', cmap='Blues')"
      ],
      "metadata": {
        "colab": {
          "base_uri": "https://localhost:8080/",
          "height": 305
        },
        "id": "lxC30veVUdh6",
        "outputId": "d6b6da7a-0157-47bb-cd0b-cb389534f770"
      },
      "execution_count": null,
      "outputs": [
        {
          "output_type": "stream",
          "name": "stderr",
          "text": [
            "WARNING:matplotlib.image:Clipping input data to the valid range for imshow with RGB data ([0..1] for floats or [0..255] for integers).\n"
          ]
        },
        {
          "output_type": "execute_result",
          "data": {
            "text/plain": [
              "<matplotlib.image.AxesImage at 0x7ff48c94d0d0>"
            ]
          },
          "metadata": {},
          "execution_count": 11
        },
        {
          "output_type": "display_data",
          "data": {
            "text/plain": [
              "<Figure size 432x288 with 1 Axes>"
            ],
            "image/png": "[encoded data removed]"
          },
          "metadata": {
            "needs_background": "light"
          }
        }
      ]
    },
    {
      "cell_type": "code",
      "source": [
        "%%time \n",
        "\n",
        "start_time = time.time()    \n",
        "\n",
        "discr_costs = []\n",
        "gener_costs = []\n",
        "images_from_noise = []\n",
        "fixed_noise = torch.randn(64, LATENT_DIM, 1, 1, device=device)\n",
        "\n",
        "\n",
        "epochs = 6\n",
        "NUM_EPOCHS = epochs\n",
        "\n",
        "counter = 0;\n",
        "\n",
        "for epoch in range(epochs):\n",
        "  model = model.train()\n",
        "  print (\"epoch = \", epoch + 1)\n",
        "\n",
        "\n",
        "  # train Discriminator and Generator\n",
        "\n",
        "  for image_data_tensor in celeba_dataset:\n",
        "    # --------------------------\n",
        "    # Train Discriminator\n",
        "    # --------------------------        \n",
        "    \n",
        "    optim_discr.zero_grad()\n",
        "    # get discriminator loss on real images\n",
        "    discr_pred_real = model.discriminator_forward(image_data_tensor).view(-1)\n",
        "    real_loss = loss_function(discr_pred_real, torch.cuda.FloatTensor([1.0]))\n",
        "    #real_loss.backward()\n",
        "    \n",
        "    # get discriminator loss on fake images\n",
        "    fake_images = model.generator_forward(generate_random_seed(100))\n",
        "    discr_pred_fake = model.discriminator_forward(fake_images.detach()).view(-1)\n",
        "    fake_loss = loss_function(discr_pred_fake, torch.cuda.FloatTensor([0.0]))\n",
        "    #fake_loss.backward()        \n",
        "\n",
        "    # combined loss\n",
        "    discr_loss = 0.5*(real_loss + fake_loss)\n",
        "    discr_loss.backward()\n",
        "\n",
        "    optim_discr.step()        \n",
        "\n",
        "    # --------------------------\n",
        "    # Train Generator\n",
        "    # --------------------------      \n",
        "\n",
        "    optim_gener.zero_grad()        \n",
        "    \n",
        "    discr_pred_fake = model.discriminator_forward(fake_images).view(-1)\n",
        "    gener_loss = loss_function(discr_pred_fake, torch.cuda.FloatTensor([1.0]))\n",
        "    gener_loss.backward()\n",
        "\n",
        "    optim_gener.step()\n",
        "\n",
        "    discr_costs.append(discr_loss.item())\n",
        "    gener_costs.append(gener_loss.item())\n",
        "        \n",
        "\n",
        "    counter+=1;\n",
        "    ### LOGGING\n",
        "    if not counter % 1000:\n",
        "        print ('Epoch: %03d/%03d | Gen/Dis Loss: %.4f/%.4f' \n",
        "                %(epoch+1, epochs, gener_loss, discr_loss))\n",
        "        \n",
        "    pass\n",
        "    \n",
        "  pass\n",
        "  ### Save images for evaluation\n",
        "  with torch.no_grad():\n",
        "      fake_images = model.generator_forward(fixed_noise).detach().cpu()\n",
        "      images_from_noise.append(\n",
        "          vutils.make_grid(fake_images, padding=2, normalize=True))\n",
        "          \n",
        "  print('Time elapsed: %.2f min' % ((time.time() - start_time)/60))\n",
        "  \n",
        "print('Total Training Time: %.2f min' % ((time.time() - start_time)/60))"
      ],
      "metadata": {
        "colab": {
          "base_uri": "https://localhost:8080/"
        },
        "id": "4kHijubdUeoc",
        "outputId": "186223c2-3a91-4357-de22-7edd5069f563"
      },
      "execution_count": null,
      "outputs": [
        {
          "output_type": "stream",
          "name": "stdout",
          "text": [
            "epoch =  1\n",
            "Epoch: 001/006 | Gen/Dis Loss: 2.7579/0.2682\n",
            "Epoch: 001/006 | Gen/Dis Loss: 2.6650/0.0789\n",
            "Epoch: 001/006 | Gen/Dis Loss: 2.4673/0.1352\n",
            "Epoch: 001/006 | Gen/Dis Loss: 2.3179/0.7494\n",
            "Epoch: 001/006 | Gen/Dis Loss: 3.9630/0.4296\n",
            "Epoch: 001/006 | Gen/Dis Loss: 2.8702/0.1308\n",
            "Epoch: 001/006 | Gen/Dis Loss: 2.1533/0.1576\n",
            "Epoch: 001/006 | Gen/Dis Loss: 3.0421/0.5472\n",
            "Epoch: 001/006 | Gen/Dis Loss: 2.8000/0.2156\n",
            "Epoch: 001/006 | Gen/Dis Loss: 3.9414/0.1072\n",
            "Epoch: 001/006 | Gen/Dis Loss: 3.1586/0.0464\n",
            "Epoch: 001/006 | Gen/Dis Loss: 2.8110/0.0570\n",
            "Epoch: 001/006 | Gen/Dis Loss: 4.6705/0.0343\n",
            "Epoch: 001/006 | Gen/Dis Loss: 2.7685/0.0506\n",
            "Epoch: 001/006 | Gen/Dis Loss: 2.0283/0.1120\n",
            "Epoch: 001/006 | Gen/Dis Loss: 1.0800/0.6030\n",
            "Epoch: 001/006 | Gen/Dis Loss: 2.5802/0.0965\n",
            "Epoch: 001/006 | Gen/Dis Loss: 4.1561/0.0347\n",
            "Epoch: 001/006 | Gen/Dis Loss: 2.9002/0.0244\n",
            "Epoch: 001/006 | Gen/Dis Loss: 1.0543/1.2778\n",
            "Time elapsed: 6.36 min\n",
            "epoch =  2\n",
            "Epoch: 002/006 | Gen/Dis Loss: 6.2176/0.0385\n",
            "Epoch: 002/006 | Gen/Dis Loss: 2.8845/0.1729\n",
            "Epoch: 002/006 | Gen/Dis Loss: 3.9729/0.5607\n",
            "Epoch: 002/006 | Gen/Dis Loss: 3.1406/0.0315\n",
            "Epoch: 002/006 | Gen/Dis Loss: 4.9915/0.0154\n",
            "Epoch: 002/006 | Gen/Dis Loss: 3.8919/0.0491\n",
            "Epoch: 002/006 | Gen/Dis Loss: 1.6457/0.7894\n",
            "Epoch: 002/006 | Gen/Dis Loss: 2.0382/0.0853\n",
            "Epoch: 002/006 | Gen/Dis Loss: 2.8668/0.0591\n",
            "Epoch: 002/006 | Gen/Dis Loss: 3.3237/0.0313\n",
            "Epoch: 002/006 | Gen/Dis Loss: 2.5478/0.1673\n",
            "Epoch: 002/006 | Gen/Dis Loss: 2.8035/0.0671\n",
            "Epoch: 002/006 | Gen/Dis Loss: 2.1935/0.1296\n",
            "Epoch: 002/006 | Gen/Dis Loss: 3.3676/0.1943\n",
            "Epoch: 002/006 | Gen/Dis Loss: 3.5089/0.5340\n",
            "Epoch: 002/006 | Gen/Dis Loss: 3.2270/0.6409\n",
            "Epoch: 002/006 | Gen/Dis Loss: 4.9413/0.3121\n",
            "Epoch: 002/006 | Gen/Dis Loss: 3.4232/0.2443\n",
            "Epoch: 002/006 | Gen/Dis Loss: 3.3379/1.2571\n",
            "Epoch: 002/006 | Gen/Dis Loss: 2.9181/0.0980\n",
            "Time elapsed: 12.73 min\n",
            "epoch =  3\n",
            "Epoch: 003/006 | Gen/Dis Loss: 4.4592/0.4739\n",
            "Epoch: 003/006 | Gen/Dis Loss: 2.6272/0.0762\n",
            "Epoch: 003/006 | Gen/Dis Loss: 5.9434/0.1745\n",
            "Epoch: 003/006 | Gen/Dis Loss: 3.6074/0.1381\n",
            "Epoch: 003/006 | Gen/Dis Loss: 2.4407/0.0562\n",
            "Epoch: 003/006 | Gen/Dis Loss: 3.5031/0.0154\n",
            "Epoch: 003/006 | Gen/Dis Loss: 3.1869/0.1014\n",
            "Epoch: 003/006 | Gen/Dis Loss: 2.9578/0.0283\n",
            "Epoch: 003/006 | Gen/Dis Loss: 2.5887/0.0563\n",
            "Epoch: 003/006 | Gen/Dis Loss: 3.1095/0.0771\n",
            "Epoch: 003/006 | Gen/Dis Loss: 6.0867/0.5563\n",
            "Epoch: 003/006 | Gen/Dis Loss: 4.4213/0.0103\n",
            "Epoch: 003/006 | Gen/Dis Loss: 2.8308/0.2075\n",
            "Epoch: 003/006 | Gen/Dis Loss: 2.7492/1.0725\n",
            "Epoch: 003/006 | Gen/Dis Loss: 5.3372/0.0434\n",
            "Epoch: 003/006 | Gen/Dis Loss: 3.4792/1.0068\n",
            "Epoch: 003/006 | Gen/Dis Loss: 2.8501/0.0897\n",
            "Epoch: 003/006 | Gen/Dis Loss: 4.1132/0.0090\n",
            "Epoch: 003/006 | Gen/Dis Loss: 2.8135/0.0876\n",
            "Epoch: 003/006 | Gen/Dis Loss: 2.2280/0.1835\n",
            "Time elapsed: 19.15 min\n",
            "epoch =  4\n",
            "Epoch: 004/006 | Gen/Dis Loss: 4.9498/0.9732\n",
            "Epoch: 004/006 | Gen/Dis Loss: 3.4109/0.0218\n",
            "Epoch: 004/006 | Gen/Dis Loss: 2.7059/0.0917\n",
            "Epoch: 004/006 | Gen/Dis Loss: 3.8656/0.0114\n",
            "Epoch: 004/006 | Gen/Dis Loss: 3.7139/0.3909\n",
            "Epoch: 004/006 | Gen/Dis Loss: 3.7214/0.0233\n",
            "Epoch: 004/006 | Gen/Dis Loss: 2.5427/0.4679\n",
            "Epoch: 004/006 | Gen/Dis Loss: 2.7367/0.1614\n",
            "Epoch: 004/006 | Gen/Dis Loss: 2.6291/0.0425\n",
            "Epoch: 004/006 | Gen/Dis Loss: 2.3981/0.3518\n",
            "Epoch: 004/006 | Gen/Dis Loss: 4.5922/0.1677\n",
            "Epoch: 004/006 | Gen/Dis Loss: 3.1020/0.4105\n",
            "Epoch: 004/006 | Gen/Dis Loss: 3.5296/0.0447\n",
            "Epoch: 004/006 | Gen/Dis Loss: 3.7638/0.8819\n",
            "Epoch: 004/006 | Gen/Dis Loss: 2.5829/0.0696\n",
            "Epoch: 004/006 | Gen/Dis Loss: 3.2803/0.1927\n",
            "Epoch: 004/006 | Gen/Dis Loss: 3.2509/0.0563\n",
            "Epoch: 004/006 | Gen/Dis Loss: 3.9622/0.0160\n",
            "Epoch: 004/006 | Gen/Dis Loss: 3.1103/0.2135\n",
            "Epoch: 004/006 | Gen/Dis Loss: 3.2177/0.2081\n",
            "Time elapsed: 25.58 min\n",
            "epoch =  5\n",
            "Epoch: 005/006 | Gen/Dis Loss: 3.3148/0.3934\n",
            "Epoch: 005/006 | Gen/Dis Loss: 4.3278/0.0090\n",
            "Epoch: 005/006 | Gen/Dis Loss: 3.2999/0.0472\n",
            "Epoch: 005/006 | Gen/Dis Loss: 3.8562/0.0228\n",
            "Epoch: 005/006 | Gen/Dis Loss: 3.9167/0.0197\n",
            "Epoch: 005/006 | Gen/Dis Loss: 3.2090/0.0194\n",
            "Epoch: 005/006 | Gen/Dis Loss: 7.0582/0.0169\n",
            "Epoch: 005/006 | Gen/Dis Loss: 4.2134/0.0078\n",
            "Epoch: 005/006 | Gen/Dis Loss: 6.6990/0.0068\n",
            "Epoch: 005/006 | Gen/Dis Loss: 2.6977/2.4336\n",
            "Epoch: 005/006 | Gen/Dis Loss: 4.5032/0.0706\n",
            "Epoch: 005/006 | Gen/Dis Loss: 3.4301/0.0333\n",
            "Epoch: 005/006 | Gen/Dis Loss: 2.3964/0.2896\n",
            "Epoch: 005/006 | Gen/Dis Loss: 4.1483/0.3902\n",
            "Epoch: 005/006 | Gen/Dis Loss: 3.0493/0.1518\n",
            "Epoch: 005/006 | Gen/Dis Loss: 2.9075/0.1601\n",
            "Epoch: 005/006 | Gen/Dis Loss: 2.9773/0.0298\n",
            "Epoch: 005/006 | Gen/Dis Loss: 3.0682/0.0397\n",
            "Epoch: 005/006 | Gen/Dis Loss: 3.9314/0.0163\n",
            "Epoch: 005/006 | Gen/Dis Loss: 2.6557/0.2147\n",
            "Time elapsed: 31.96 min\n",
            "epoch =  6\n",
            "Epoch: 006/006 | Gen/Dis Loss: 3.7967/0.0323\n",
            "Epoch: 006/006 | Gen/Dis Loss: 3.8248/0.0305\n",
            "Epoch: 006/006 | Gen/Dis Loss: 2.8421/0.4989\n",
            "Epoch: 006/006 | Gen/Dis Loss: 4.3434/0.6306\n",
            "Epoch: 006/006 | Gen/Dis Loss: 6.8271/0.3576\n",
            "Epoch: 006/006 | Gen/Dis Loss: 6.6703/0.0008\n",
            "Epoch: 006/006 | Gen/Dis Loss: 4.2495/0.0316\n",
            "Epoch: 006/006 | Gen/Dis Loss: 3.3662/0.1013\n",
            "Epoch: 006/006 | Gen/Dis Loss: 4.5845/0.0455\n",
            "Epoch: 006/006 | Gen/Dis Loss: 3.1015/0.9007\n",
            "Epoch: 006/006 | Gen/Dis Loss: 2.7778/0.1221\n",
            "Epoch: 006/006 | Gen/Dis Loss: 5.2680/0.0034\n",
            "Epoch: 006/006 | Gen/Dis Loss: 3.9682/0.0110\n",
            "Epoch: 006/006 | Gen/Dis Loss: 7.1264/1.0013\n",
            "Epoch: 006/006 | Gen/Dis Loss: 6.1272/0.0030\n",
            "Epoch: 006/006 | Gen/Dis Loss: 2.5404/0.5314\n",
            "Epoch: 006/006 | Gen/Dis Loss: 5.9950/0.4506\n",
            "Epoch: 006/006 | Gen/Dis Loss: 3.9999/0.0098\n",
            "Epoch: 006/006 | Gen/Dis Loss: 2.7844/0.0884\n",
            "Epoch: 006/006 | Gen/Dis Loss: 3.7291/0.6382\n",
            "Time elapsed: 38.32 min\n",
            "Total Training Time: 38.32 min\n",
            "CPU times: user 37min 57s, sys: 17.3 s, total: 38min 15s\n",
            "Wall time: 38min 18s\n"
          ]
        }
      ]
    },
    {
      "cell_type": "code",
      "source": [
        "ax1 = plt.subplot(1, 1, 1)\n",
        "ax1.plot(range(len(gener_costs)), gener_costs, label='Generator loss')\n",
        "ax1.plot(range(len(discr_costs)), discr_costs, label='Discriminator loss')\n",
        "ax1.set_xlabel('Iterations')\n",
        "ax1.set_ylabel('Loss')\n",
        "ax1.legend()\n",
        "\n",
        "\n",
        "plt.show()"
      ],
      "metadata": {
        "colab": {
          "base_uri": "https://localhost:8080/",
          "height": 279
        },
        "id": "3rf9J26SUf-e",
        "outputId": "fcabc0b2-2213-4b89-9aa5-1ad5052de113"
      },
      "execution_count": null,
      "outputs": [
        {
          "output_type": "display_data",
          "data": {
            "text/plain": [
              "<Figure size 432x288 with 1 Axes>"
            ],
            "image/png": "[encoded data removed]"
          },
          "metadata": {
            "needs_background": "light"
          }
        }
      ]
    },
    {
      "cell_type": "code",
      "source": [
        "##########################\n",
        "### VISUALIZATION\n",
        "##########################\n",
        "\n",
        "for i in range(0, NUM_EPOCHS, 5):\n",
        "    plt.imshow(np.transpose(images_from_noise[i], (1, 2, 0)))\n",
        "    plt.show()"
      ],
      "metadata": {
        "colab": {
          "base_uri": "https://localhost:8080/",
          "height": 248
        },
        "id": "QdPIW1ltUhD5",
        "outputId": "d8128ea9-8941-4d24-e385-13b57fc795b6"
      },
      "execution_count": null,
      "outputs": [
        {
          "output_type": "error",
          "ename": "NameError",
          "evalue": "ignored",
          "traceback": [
            "\u001b[0;31m---------------------------------------------------------------------------\u001b[0m",
            "\u001b[0;31mNameError\u001b[0m                                 Traceback (most recent call last)",
            "\u001b[0;32m<ipython-input-1-f8bd0db2089d>\u001b[0m in \u001b[0;36m<module>\u001b[0;34m\u001b[0m\n\u001b[1;32m      3\u001b[0m \u001b[0;31m##########################\u001b[0m\u001b[0;34m\u001b[0m\u001b[0;34m\u001b[0m\u001b[0m\n\u001b[1;32m      4\u001b[0m \u001b[0;34m\u001b[0m\u001b[0m\n\u001b[0;32m----> 5\u001b[0;31m \u001b[0;32mfor\u001b[0m \u001b[0mi\u001b[0m \u001b[0;32min\u001b[0m \u001b[0mrange\u001b[0m\u001b[0;34m(\u001b[0m\u001b[0;36m0\u001b[0m\u001b[0;34m,\u001b[0m \u001b[0mNUM_EPOCHS\u001b[0m\u001b[0;34m,\u001b[0m \u001b[0;36m5\u001b[0m\u001b[0;34m)\u001b[0m\u001b[0;34m:\u001b[0m\u001b[0;34m\u001b[0m\u001b[0;34m\u001b[0m\u001b[0m\n\u001b[0m\u001b[1;32m      6\u001b[0m     \u001b[0mplt\u001b[0m\u001b[0;34m.\u001b[0m\u001b[0mimshow\u001b[0m\u001b[0;34m(\u001b[0m\u001b[0mnp\u001b[0m\u001b[0;34m.\u001b[0m\u001b[0mtranspose\u001b[0m\u001b[0;34m(\u001b[0m\u001b[0mimages_from_noise\u001b[0m\u001b[0;34m[\u001b[0m\u001b[0mi\u001b[0m\u001b[0;34m]\u001b[0m\u001b[0;34m,\u001b[0m \u001b[0;34m(\u001b[0m\u001b[0;36m1\u001b[0m\u001b[0;34m,\u001b[0m \u001b[0;36m2\u001b[0m\u001b[0;34m,\u001b[0m \u001b[0;36m0\u001b[0m\u001b[0;34m)\u001b[0m\u001b[0;34m)\u001b[0m\u001b[0;34m)\u001b[0m\u001b[0;34m\u001b[0m\u001b[0;34m\u001b[0m\u001b[0m\n\u001b[1;32m      7\u001b[0m     \u001b[0mplt\u001b[0m\u001b[0;34m.\u001b[0m\u001b[0mshow\u001b[0m\u001b[0;34m(\u001b[0m\u001b[0;34m)\u001b[0m\u001b[0;34m\u001b[0m\u001b[0;34m\u001b[0m\u001b[0m\n",
            "\u001b[0;31mNameError\u001b[0m: name 'NUM_EPOCHS' is not defined"
          ]
        }
      ]
    },
    {
      "cell_type": "code",
      "source": [
        "# plot several outputs from the trained generator\n",
        "\n",
        "# plot a 3 column, 2 row array of generated images\n",
        "f, axarr = plt.subplots(2,3, figsize=(16,8))\n",
        "for i in range(2):\n",
        "    for j in range(3):\n",
        "        output = model.generator_forward(generate_random_seed(100))\n",
        "        img = output.detach().permute(0,2,3,1).view(64,64,3).cpu().numpy()\n",
        "        axarr[i,j].imshow(img, interpolation='none', cmap='Blues')\n",
        "        pass\n",
        "    pass"
      ],
      "metadata": {
        "colab": {
          "base_uri": "https://localhost:8080/",
          "height": 595
        },
        "id": "IOCvYL7wYot8",
        "outputId": "3f751b9b-7a0d-4212-92f8-d1e5e26b3934"
      },
      "execution_count": null,
      "outputs": [
        {
          "output_type": "stream",
          "name": "stderr",
          "text": [
            "WARNING:matplotlib.image:Clipping input data to the valid range for imshow with RGB data ([0..1] for floats or [0..255] for integers).\n",
            "WARNING:matplotlib.image:Clipping input data to the valid range for imshow with RGB data ([0..1] for floats or [0..255] for integers).\n",
            "WARNING:matplotlib.image:Clipping input data to the valid range for imshow with RGB data ([0..1] for floats or [0..255] for integers).\n",
            "WARNING:matplotlib.image:Clipping input data to the valid range for imshow with RGB data ([0..1] for floats or [0..255] for integers).\n",
            "WARNING:matplotlib.image:Clipping input data to the valid range for imshow with RGB data ([0..1] for floats or [0..255] for integers).\n",
            "WARNING:matplotlib.image:Clipping input data to the valid range for imshow with RGB data ([0..1] for floats or [0..255] for integers).\n"
          ]
        },
        {
          "output_type": "display_data",
          "data": {
            "text/plain": [
              "<Figure size 1152x576 with 6 Axes>"
            ],
            "image/png": "[encoded data removed]"
          },
          "metadata": {
            "needs_background": "light"
          }
        }
      ]
    }
  ]
}